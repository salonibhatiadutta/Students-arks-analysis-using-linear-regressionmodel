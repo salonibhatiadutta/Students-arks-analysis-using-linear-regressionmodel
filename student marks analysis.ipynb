{
 "cells": [
  {
   "cell_type": "code",
   "execution_count": 9,
   "metadata": {},
   "outputs": [
    {
     "name": "stdout",
     "output_type": "stream",
     "text": [
      "PRE-BUILT FUNCTION:\n",
      "\n",
      "1. coefficients:  [0.05136172 0.02232002 0.03332929]\n",
      "2. Test score: 0.9957631648204319\n",
      "4. Intercept:  0.3003705555069711\n",
      "5. Slope:  0.03332929199516685\n",
      "\n",
      "\n",
      "SELF-BUILT FUNCTIONS\n",
      "1.coefficients:  [0.02808284 0.05706436 0.02851233]\n",
      "2. Variance Score for test data:  0.996726825273917\n",
      "3. Slope:  0.028512333354519026\n"
     ]
    },
    {
     "data": {
      "image/png": "[encoded data removed]",
      "text/plain": [
       "<Figure size 720x720 with 1 Axes>"
      ]
     },
     "metadata": {},
     "output_type": "display_data"
    }
   ],
   "source": [
    "import pandas as pd\n",
    "import numpy as np\n",
    "import matplotlib.pyplot as plt \n",
    "import seaborn as sn\n",
    "from sklearn.model_selection import train_test_split\n",
    "from sklearn import datasets, linear_model, metrics\n",
    "from sklearn.datasets import make_regression\n",
    "from sklearn.metrics import r2_score\n",
    "\n",
    "\n",
    " #calculating the variance score for test data by y_predicted and y_true values as y_predicted=x.b and calculating variance\n",
    "#by calling explained_variance_score function\"\n",
    "def predict(c,x):\n",
    "    y_predict= np.dot(coeff,x.T)\n",
    "    return(y_predict)\n",
    "      \n",
    "    \n",
    "#main function begins with seeing the random data so that eyerytime we run it, the data doesn't change    \n",
    "k=np.random.normal(75,5,200)\n",
    "k.sort()\n",
    "k1=np.random.normal(65,5,200)\n",
    "k1.sort()\n",
    "k2=np.random.normal(55,10,200)\n",
    "k2.sort()\n",
    "g=np.random.normal(7.5,0.7,200)\n",
    "g.sort()\n",
    "df=pd.DataFrame(k,columns=['English'])\n",
    "df['Maths']=k1\n",
    "df['Science']=k2\n",
    "df['grade']=g\n",
    "df.head()\n",
    "x=df.iloc[:,:-1]\n",
    "y=df.iloc[:,-1]\n",
    "x_train,x_test,y_train,y_test=train_test_split(x,y,test_size=0.3) # splitting training and testing data with test data as 40%\n",
    "x_train=x_train.values\n",
    "y_train=y_train.values\n",
    "x_test=x_test.values\n",
    "y_test=y_test.values\n",
    "\n",
    "# calling pre built linear regression model\n",
    "reg=linear_model.LinearRegression() \n",
    "reg.fit(x_train,y_train)\n",
    "y_pred=reg.predict(x_test)\n",
    "print(\"PRE-BUILT FUNCTION:\\n\")\n",
    "print(\"1. coefficients: \",reg.coef_)\n",
    "print(\"2. Test score: {}\".format(r2_score(y_test,y_pred)))\n",
    "#print(\"3. Train score: {}\".format(r2_score(x_train,y_train)))\n",
    "print(\"4. Intercept: \", reg.intercept_)\n",
    "print(\"5. Slope: \", np.median(reg.coef_))     \n",
    "print(\"\\n\")\n",
    "\n",
    "# self built algorithms\n",
    "reg.fit(x_train,y_train)    # fitting the test data\n",
    "e= np.ones((len(x_test),1))                  # CREATING X matrix with first column 1                        \n",
    "x= np.hstack((e,x_test))\n",
    "y_true=y_test\n",
    "coeff= np.dot(np.dot(np.linalg.inv(np.dot(x_test.T, x_test)),x_test.T),y_test) # estimating coefficients b=[inverse(x'x)].X'.Y\n",
    "y_predicted=np.dot(x_test,coeff.T) \n",
    "print(\"SELF-BUILT FUNCTIONS\")\n",
    "print(\"1.coefficients: \",coeff)\n",
    "print(\"2. Variance Score for test data: \",r2_score(y_true, y_predicted,multioutput='uniform_average'))\n",
    "print(\"3. Slope: \", np.median(coeff)) # slope is calculated by median of coefficients value\n",
    "\n",
    "#Plotting the test data of prebuilt and selfbuilt model\n",
    "#plt.style.use(\"fivethirtyeight\") #screen size and grid size\n",
    "plt.figure(figsize=(10,10))\n",
    "plt.scatter(reg.predict(x_test),y_pred,color=\"red\",s=20,label=\"Prebuilt test data\")\n",
    "plt.scatter(predict(coeff,x_test),y_predicted,color=\"green\",s=10,label=\"Selfbuilt test data\")\n",
    "\n",
    "plt.hlines(y=0,xmin=0,xmax=50,linewidth=2)\n",
    "\n",
    "plt.legend(loc=\"upper right\")\n",
    "plt.show()"
   ]
  },
  {
   "cell_type": "code",
   "execution_count": null,
   "metadata": {},
   "outputs": [],
   "source": []
  }
 ],
 "metadata": {
  "kernelspec": {
   "display_name": "Python 3",
   "language": "python",
   "name": "python3"
  },
  "language_info": {
   "codemirror_mode": {
    "name": "ipython",
    "version": 3
   },
   "file_extension": ".py",
   "mimetype": "text/x-python",
   "name": "python",
   "nbconvert_exporter": "python",
   "pygments_lexer": "ipython3",
   "version": "3.7.4"
  }
 },
 "nbformat": 4,
 "nbformat_minor": 2
}
